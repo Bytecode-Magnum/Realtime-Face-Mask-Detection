{
 "cells": [
  {
   "cell_type": "markdown",
   "id": "e27ef823-ef7a-4694-84cf-3713648caf4d",
   "metadata": {},
   "source": [
    "##### Imports"
   ]
  },
  {
   "cell_type": "code",
   "execution_count": 1,
   "id": "1ca2e4ac-bdc4-47e0-8006-9d4e7a0de58b",
   "metadata": {},
   "outputs": [],
   "source": [
    "import tensorflow as tf\n",
    "import cv2\n",
    "from object_detection.utils import config_util  \n",
    "from object_detection.utils import label_map_util\n",
    "from object_detection.utils import visualization_utils as viz_util\n",
    "from object_detection.protos import pipeline_pb2\n",
    "from object_detection.builders import model_builder\n",
    "from google.protobuf import text_format\n",
    "import numpy as np\n",
    "import os"
   ]
  },
  {
   "cell_type": "code",
   "execution_count": 6,
   "id": "2a03d77e-5fb3-45e7-a682-44826295f687",
   "metadata": {},
   "outputs": [
    {
     "name": "stdout",
     "output_type": "stream",
     "text": [
      "C:\\Users\\ankit\\Py-world\\Computer Vision\\TFOD\\RealTimeObjectDetection\n"
     ]
    }
   ],
   "source": [
    "%cd ./RealTimeObjectDetection"
   ]
  },
  {
   "cell_type": "markdown",
   "id": "8059ae6b-5dd9-473c-97b9-c8a2dc8b9d80",
   "metadata": {},
   "source": [
    "##### Path Setting "
   ]
  },
  {
   "cell_type": "code",
   "execution_count": 2,
   "id": "6407709e-8523-4c1b-a632-5668dce21760",
   "metadata": {},
   "outputs": [],
   "source": [
    "workspace_path='Tensorflow/workspace'  #: workspace contains dataset, scripts, pre trained model, output model \n",
    "scripts_path='Tensorflow/scripts'   #: contain scripts to generate tf record \n",
    "annotation_path=workspace_path+'/annotations'  #: contains label for dataset\n",
    "image_path=workspace_path+'/images'  #: train and test images for training the model\n",
    "api_model='Tensorflow/models'       #: tfod api model path\n",
    "model_path=workspace_path+'/models'  #: after training the model will be stored in model_path\n",
    "pretrained_model_path=workspace_path+'/pre-trained-models'  #: ssd mobilnet pre trained model path\n",
    "config_path=model_path+'/my_ssd_mobnet/pipeline.config'  #: config file for the pre trained model\n",
    "checkpoint_path=model_path+'/my_ssd_mobnet'  #: check point for the model(load the model from the checkpoint last time the model was trained)"
   ]
  },
  {
   "cell_type": "markdown",
   "id": "913d015f-8ccf-4d4c-b644-301e06fc81be",
   "metadata": {},
   "source": [
    "##### Generating the label map files"
   ]
  },
  {
   "cell_type": "code",
   "execution_count": 5,
   "id": "48aaf8f5-ed65-4dcc-8a74-3fa556c45b74",
   "metadata": {},
   "outputs": [],
   "source": [
    "labels=[{'name':'mask','id':1},{'name':'no mask','id':2}]\n",
    "with open(annotation_path+'/labelmap.pbtxt', 'w') as f:\n",
    "    for label in labels:\n",
    "            f.write('item { \\n')\n",
    "            f.write('\\tname:\\'{}\\'\\n'.format(label['name']))\n",
    "            f.write('\\tid:{}\\n'.format(label['id']))\n",
    "            f.write('}\\n')"
   ]
  },
  {
   "cell_type": "markdown",
   "id": "dedf5702-99b5-40ae-a75a-42884764a924",
   "metadata": {},
   "source": [
    "##### Generate TF Record for training and testing data"
   ]
  },
  {
   "cell_type": "code",
   "execution_count": 69,
   "id": "f3a8ce57-4c09-4ab0-b15c-3a5dff6c16d2",
   "metadata": {},
   "outputs": [
    {
     "name": "stdout",
     "output_type": "stream",
     "text": [
      "Successfully created the TFRecord file: Tensorflow/workspace/annotations/train.record\n",
      "Successfully created the TFRecord file: Tensorflow/workspace/annotations/test.record\n"
     ]
    }
   ],
   "source": [
    "!python {scripts_path+'/generate_tfrecord.py'} -x{image_path+'/train'} -l {annotation_path+'/labelmap.pbtxt'} -o {annotation_path+ '/train.record'}\n",
    "!python {scripts_path+'/generate_tfrecord.py'} -x{image_path+ '/test'}  -l {annotation_path+ '/labelmap.pbtxt'} -o {annotation_path + '/test.record'}"
   ]
  },
  {
   "cell_type": "markdown",
   "id": "08ac854e-ca69-4822-a926-e4de31e34e11",
   "metadata": {},
   "source": [
    "##### Creating a new folder inside the workspace --> models --> my_ssd_mobilet, where we will store our trained model, checkpoints and configs"
   ]
  },
  {
   "cell_type": "code",
   "execution_count": 26,
   "id": "e0b60a3b-1e5e-4768-ab6d-39c341007223",
   "metadata": {},
   "outputs": [],
   "source": [
    "custom_model='my_ssd_mobnet' "
   ]
  },
  {
   "cell_type": "code",
   "execution_count": null,
   "id": "64a2bcf1-e50b-47d1-8e55-c18beb0b3e28",
   "metadata": {},
   "outputs": [],
   "source": [
    "!mkdir {'Tensorflow\\workspace\\models\\\\'+custom_model}\n",
    "!cp  {pretrained_model_path+'/ssd_mobilenet_v2_fpnlite_320x320_coco17_tpu-8/pipeline.config'} {model_path+'/'+custom_model}\n",
    "#: copy the pipeline.config file from the pre trained model folder and paste the config file inside my_ssd_mobilnet"
   ]
  },
  {
   "cell_type": "markdown",
   "id": "9012baab-0afb-4afd-bb5c-3793110b6949",
   "metadata": {},
   "source": [
    "##### Opening the config file"
   ]
  },
  {
   "cell_type": "code",
   "execution_count": 74,
   "id": "0ff3e415-f207-42ae-812e-c8c2c993f280",
   "metadata": {
    "scrolled": true
   },
   "outputs": [
    {
     "data": {
      "text/plain": [
       "{'model': ssd {\n",
       "   num_classes: 2\n",
       "   image_resizer {\n",
       "     fixed_shape_resizer {\n",
       "       height: 320\n",
       "       width: 320\n",
       "     }\n",
       "   }\n",
       "   feature_extractor {\n",
       "     type: \"ssd_mobilenet_v2_fpn_keras\"\n",
       "     depth_multiplier: 1.0\n",
       "     min_depth: 16\n",
       "     conv_hyperparams {\n",
       "       regularizer {\n",
       "         l2_regularizer {\n",
       "           weight: 3.9999998989515007e-05\n",
       "         }\n",
       "       }\n",
       "       initializer {\n",
       "         random_normal_initializer {\n",
       "           mean: 0.0\n",
       "           stddev: 0.009999999776482582\n",
       "         }\n",
       "       }\n",
       "       activation: RELU_6\n",
       "       batch_norm {\n",
       "         decay: 0.996999979019165\n",
       "         scale: true\n",
       "         epsilon: 0.0010000000474974513\n",
       "       }\n",
       "     }\n",
       "     use_depthwise: true\n",
       "     override_base_feature_extractor_hyperparams: true\n",
       "     fpn {\n",
       "       min_level: 3\n",
       "       max_level: 7\n",
       "       additional_layer_depth: 128\n",
       "     }\n",
       "   }\n",
       "   box_coder {\n",
       "     faster_rcnn_box_coder {\n",
       "       y_scale: 10.0\n",
       "       x_scale: 10.0\n",
       "       height_scale: 5.0\n",
       "       width_scale: 5.0\n",
       "     }\n",
       "   }\n",
       "   matcher {\n",
       "     argmax_matcher {\n",
       "       matched_threshold: 0.5\n",
       "       unmatched_threshold: 0.5\n",
       "       ignore_thresholds: false\n",
       "       negatives_lower_than_unmatched: true\n",
       "       force_match_for_each_row: true\n",
       "       use_matmul_gather: true\n",
       "     }\n",
       "   }\n",
       "   similarity_calculator {\n",
       "     iou_similarity {\n",
       "     }\n",
       "   }\n",
       "   box_predictor {\n",
       "     weight_shared_convolutional_box_predictor {\n",
       "       conv_hyperparams {\n",
       "         regularizer {\n",
       "           l2_regularizer {\n",
       "             weight: 3.9999998989515007e-05\n",
       "           }\n",
       "         }\n",
       "         initializer {\n",
       "           random_normal_initializer {\n",
       "             mean: 0.0\n",
       "             stddev: 0.009999999776482582\n",
       "           }\n",
       "         }\n",
       "         activation: RELU_6\n",
       "         batch_norm {\n",
       "           decay: 0.996999979019165\n",
       "           scale: true\n",
       "           epsilon: 0.0010000000474974513\n",
       "         }\n",
       "       }\n",
       "       depth: 128\n",
       "       num_layers_before_predictor: 4\n",
       "       kernel_size: 3\n",
       "       class_prediction_bias_init: -4.599999904632568\n",
       "       share_prediction_tower: true\n",
       "       use_depthwise: true\n",
       "     }\n",
       "   }\n",
       "   anchor_generator {\n",
       "     multiscale_anchor_generator {\n",
       "       min_level: 3\n",
       "       max_level: 7\n",
       "       anchor_scale: 4.0\n",
       "       aspect_ratios: 1.0\n",
       "       aspect_ratios: 2.0\n",
       "       aspect_ratios: 0.5\n",
       "       scales_per_octave: 2\n",
       "     }\n",
       "   }\n",
       "   post_processing {\n",
       "     batch_non_max_suppression {\n",
       "       score_threshold: 9.99999993922529e-09\n",
       "       iou_threshold: 0.6000000238418579\n",
       "       max_detections_per_class: 100\n",
       "       max_total_detections: 100\n",
       "       use_static_shapes: false\n",
       "     }\n",
       "     score_converter: SIGMOID\n",
       "   }\n",
       "   normalize_loss_by_num_matches: true\n",
       "   loss {\n",
       "     localization_loss {\n",
       "       weighted_smooth_l1 {\n",
       "       }\n",
       "     }\n",
       "     classification_loss {\n",
       "       weighted_sigmoid_focal {\n",
       "         gamma: 2.0\n",
       "         alpha: 0.25\n",
       "       }\n",
       "     }\n",
       "     classification_weight: 1.0\n",
       "     localization_weight: 1.0\n",
       "   }\n",
       "   encode_background_as_zeros: true\n",
       "   normalize_loc_loss_by_codesize: true\n",
       "   inplace_batchnorm_update: true\n",
       "   freeze_batchnorm: false\n",
       " },\n",
       " 'train_config': batch_size: 6\n",
       " data_augmentation_options {\n",
       "   random_horizontal_flip {\n",
       "   }\n",
       " }\n",
       " data_augmentation_options {\n",
       "   random_crop_image {\n",
       "     min_object_covered: 0.0\n",
       "     min_aspect_ratio: 0.75\n",
       "     max_aspect_ratio: 3.0\n",
       "     min_area: 0.75\n",
       "     max_area: 1.0\n",
       "     overlap_thresh: 0.0\n",
       "   }\n",
       " }\n",
       " sync_replicas: true\n",
       " optimizer {\n",
       "   momentum_optimizer {\n",
       "     learning_rate {\n",
       "       cosine_decay_learning_rate {\n",
       "         learning_rate_base: 0.07999999821186066\n",
       "         total_steps: 50000\n",
       "         warmup_learning_rate: 0.026666000485420227\n",
       "         warmup_steps: 1000\n",
       "       }\n",
       "     }\n",
       "     momentum_optimizer_value: 0.8999999761581421\n",
       "   }\n",
       "   use_moving_average: false\n",
       " }\n",
       " fine_tune_checkpoint: \"Tensorflow/workspace/pre-trained-models/ssd_mobilenet_v2_fpnlite_320x320_coco17_tpu-8/checkpoint/ckpt-0\"\n",
       " num_steps: 50000\n",
       " startup_delay_steps: 0.0\n",
       " replicas_to_aggregate: 8\n",
       " max_number_of_boxes: 100\n",
       " unpad_groundtruth_tensors: false\n",
       " fine_tune_checkpoint_type: \"detection\"\n",
       " fine_tune_checkpoint_version: V2,\n",
       " 'train_input_config': label_map_path: \"Tensorflow/workspace/annotations/labelmap.pbtxt\"\n",
       " tf_record_input_reader {\n",
       "   input_path: \"Tensorflow/workspace/annotations/train.record\"\n",
       " },\n",
       " 'eval_config': metrics_set: \"coco_detection_metrics\"\n",
       " use_moving_averages: false,\n",
       " 'eval_input_configs': [label_map_path: \"Tensorflow/workspace/annotations/labelmap.pbtxt\"\n",
       " shuffle: false\n",
       " num_epochs: 1\n",
       " tf_record_input_reader {\n",
       "   input_path: \"Tensorflow/workspace/annotations/test.record\"\n",
       " }\n",
       " ],\n",
       " 'eval_input_config': label_map_path: \"Tensorflow/workspace/annotations/labelmap.pbtxt\"\n",
       " shuffle: false\n",
       " num_epochs: 1\n",
       " tf_record_input_reader {\n",
       "   input_path: \"Tensorflow/workspace/annotations/test.record\"\n",
       " }}"
      ]
     },
     "execution_count": 74,
     "metadata": {},
     "output_type": "execute_result"
    }
   ],
   "source": [
    "config_path=model_path+'/'+custom_model+'/pipeline.config'\n",
    "config=config_util.get_configs_from_pipeline_file(config_path)\n",
    "config"
   ]
  },
  {
   "cell_type": "markdown",
   "id": "8bcf6aa2-aa85-4eb8-8055-c152cdeeec24",
   "metadata": {},
   "source": [
    "##### Creating a empty configuratio object to save the config in that"
   ]
  },
  {
   "cell_type": "code",
   "execution_count": 71,
   "id": "61197c55-84fe-4237-86d7-7e05f9881771",
   "metadata": {},
   "outputs": [],
   "source": [
    "pipeline_config=pipeline_pb2.TrainEvalPipelineConfig()  #: empty configuration object\n",
    "with tf.io.gfile.GFile(config_path,'r') as f:           #: read the config file\n",
    "    str=f.read()                                        #: stored the config in temporary object\n",
    "    text_format.Merge(str,pipeline_config)              #: stored the object in pipeline_config"
   ]
  },
  {
   "cell_type": "markdown",
   "id": "74032d87-aad1-4381-b05e-4126a9ed8533",
   "metadata": {},
   "source": [
    "##### Configuring the pipeline_config for our model"
   ]
  },
  {
   "cell_type": "code",
   "execution_count": 72,
   "id": "ef25c507-1f24-4a99-89ed-ceb40d7bcb1e",
   "metadata": {},
   "outputs": [],
   "source": [
    "pipeline_config.model.ssd.num_classes=2\n",
    "pipeline_config.train_config.batch_size=6\n",
    "pipeline_config.train_config.fine_tune_checkpoint=pretrained_model_path+'/ssd_mobilenet_v2_fpnlite_320x320_coco17_tpu-8/checkpoint/ckpt-0'\n",
    "pipeline_config.train_config.fine_tune_checkpoint_type='detection'\n",
    "pipeline_config.train_input_reader.label_map_path=annotation_path+'/labelmap.pbtxt'\n",
    "pipeline_config.train_input_reader.tf_record_input_reader.input_path[:]=[annotation_path+'/train.record']\n",
    "pipeline_config.eval_input_reader[0].tf_record_input_reader.input_path[:]=[annotation_path+'/test.record']\n",
    "pipeline_config.eval_input_reader[0].label_map_path=annotation_path+'/labelmap.pbtxt'"
   ]
  },
  {
   "cell_type": "markdown",
   "id": "7c7f2222-fb6d-42ff-b446-67c39a9d1b09",
   "metadata": {},
   "source": [
    "##### saving the configured config file"
   ]
  },
  {
   "cell_type": "code",
   "execution_count": 73,
   "id": "2c65cf7b-1159-40a4-a9d6-9b8ba64a8124",
   "metadata": {},
   "outputs": [],
   "source": [
    "new_config=text_format.MessageToString(pipeline_config)\n",
    "with tf.io.gfile.GFile(config_path,'w') as f:\n",
    "    f.write(new_config)"
   ]
  },
  {
   "cell_type": "code",
   "execution_count": 16,
   "id": "f04470a5-48f8-437e-842d-7ff74bb91630",
   "metadata": {},
   "outputs": [
    {
     "data": {
      "text/plain": [
       "'C:\\\\Users\\\\ankit\\\\Py-world\\\\Computer Vision\\\\TFOD\\\\RealTimeObjectDetection'"
      ]
     },
     "execution_count": 16,
     "metadata": {},
     "output_type": "execute_result"
    }
   ],
   "source": [
    "%pwd"
   ]
  },
  {
   "cell_type": "markdown",
   "id": "1c55e28e-ebf4-4b3e-bff4-ba562778d71e",
   "metadata": {},
   "source": [
    "##### Training the model"
   ]
  },
  {
   "cell_type": "markdown",
   "id": "ad009918-b8f4-4658-bfc9-0de54cc3845d",
   "metadata": {},
   "source": [
    "###### pass the api model path, config file path , number of training steps and run  the above command in terminal to train then model"
   ]
  },
  {
   "cell_type": "code",
   "execution_count": 52,
   "id": "1ff69097-8125-4a0a-9272-64ffee7a050d",
   "metadata": {},
   "outputs": [
    {
     "name": "stdout",
     "output_type": "stream",
     "text": [
      "python Tensorflow/models/research/object_detection/model_main_tf2.py --model_dir=Tensorflow/workspace/models/my_ssd_mobnet --pipeline_config_path=Tensorflow/workspace/models/my_ssd_mobnet/pipeline.config --num_train_steps=1000\n"
     ]
    }
   ],
   "source": [
    "print('python Tensorflow/models/research/object_detection/model_main_tf2.py --model_dir=Tensorflow/workspace/models/my_ssd_mobnet --pipeline_config_path=Tensorflow/workspace/models/my_ssd_mobnet/pipeline.config --num_train_steps=1000')"
   ]
  },
  {
   "cell_type": "markdown",
   "id": "91bb36b2-e352-438a-93aa-3dd151092a6a",
   "metadata": {},
   "source": [
    "##### Loading the trained model pipeline.config file and last checkpoint on which the model was trained"
   ]
  },
  {
   "cell_type": "code",
   "execution_count": 7,
   "id": "61d58e05-e93b-4e85-86f0-a4cc4894a9d8",
   "metadata": {},
   "outputs": [
    {
     "data": {
      "text/plain": [
       "<tensorflow.python.checkpoint.checkpoint.CheckpointLoadStatus at 0x27bc7a27520>"
      ]
     },
     "execution_count": 7,
     "metadata": {},
     "output_type": "execute_result"
    }
   ],
   "source": [
    "#: load the model\n",
    "config=config_util.get_configs_from_pipeline_file(config_path)\n",
    "detection_model=model_builder.build(model_config=config['model'],is_training=False)\n",
    "#: load the checkpoints\n",
    "chk=tf.compat.v2.train.Checkpoint(model=detection_model)\n",
    "chk.restore(os.path.join(checkpoint_path,'ckpt-7')).expect_partial()"
   ]
  },
  {
   "cell_type": "markdown",
   "id": "b72659d4-ac1e-4fe3-b984-ad38f4a87da5",
   "metadata": {},
   "source": [
    "##### Creating a function for detection"
   ]
  },
  {
   "cell_type": "code",
   "execution_count": 8,
   "id": "0184ed01-ee23-4aad-b68e-44db569dd450",
   "metadata": {},
   "outputs": [],
   "source": [
    "@tf.function\n",
    "def detect(image):\n",
    "    image,shape=detection_model.preprocess(image)  #: resizing the image, normalizing pixel values, and other preprocessing steps\n",
    "    prediction=detection_model.predict(image,shape)    #: make the prediction (class score, bounding boxes and other relevant infomations)\n",
    "    detections=detection_model.postprocess(prediction,shape) #: : filtering out the low confidence predictions, applying non maximum suppression\n",
    "    return detections"
   ]
  },
  {
   "cell_type": "markdown",
   "id": "d5a1236e-6eb3-4b1b-9322-deb8f2d190ed",
   "metadata": {},
   "source": [
    "##### Categoryindex"
   ]
  },
  {
   "cell_type": "code",
   "execution_count": 9,
   "id": "7a77a1f9-2e87-4bee-84f5-3f03df949c02",
   "metadata": {},
   "outputs": [],
   "source": [
    "category_index=label_map_util.create_category_index_from_labelmap(annotation_path+'/labelmap.pbtxt')"
   ]
  },
  {
   "cell_type": "markdown",
   "id": "a36bd95d-f313-4809-b450-5ece8a673dae",
   "metadata": {},
   "source": [
    "##### Detection in RealTime"
   ]
  },
  {
   "cell_type": "code",
   "execution_count": 10,
   "id": "f6536cdf-41a4-4926-81a5-62e962d76dda",
   "metadata": {},
   "outputs": [],
   "source": [
    "def mask_detection():\n",
    "    cap = cv2.VideoCapture('./test video 6.mp4')\n",
    "    # width = int(cap.get(cv2.CAP_PROP_FRAME_WIDTH))\n",
    "    # height = int(cap.get(cv2.CAP_PROP_FRAME_HEIGHT))\n",
    "    try:\n",
    "        while True:\n",
    "            rat,frame=cap.read()\n",
    "            # frame=cv2.imread('./stock-photo-bearded-man-standing-blue-background-tank-top-pants-looking-away.jpg')\n",
    "            image_np = np.array(frame)\n",
    "            input_tensor = tf.convert_to_tensor(np.expand_dims(image_np, 0), dtype=tf.float32)\n",
    "            detections = detect(input_tensor)\n",
    "            # print('detections are: ',detections)\n",
    "            last_detect=detections\n",
    "            num_detections = int(detections.pop('num_detections')) \n",
    "            detections = {key: value[0, :num_detections].numpy()  #: trimming the detection and taking first num_detection values from each key\n",
    "                          for key, value in detections.items()}\n",
    "            detections['num_detections'] = num_detections\n",
    "        \n",
    "            # detection_classes should be ints.\n",
    "            detections['detection_classes'] = detections['detection_classes'].astype(np.int64)\n",
    "            label_id_offset = 1\n",
    "            image_np_with_detections = image_np.copy()\n",
    "        \n",
    "            viz_util.visualize_boxes_and_labels_on_image_array(\n",
    "                        image_np_with_detections,\n",
    "                        detections['detection_boxes'],\n",
    "                        detections['detection_classes']+label_id_offset,\n",
    "                        detections['detection_scores'],\n",
    "                        category_index,\n",
    "                        use_normalized_coordinates=True,\n",
    "                        max_boxes_to_draw=5,\n",
    "                        min_score_thresh=.5,\n",
    "                        agnostic_mode=False)\n",
    "        \n",
    "            cv2.imshow('object detection',  cv2.resize(image_np_with_detections, (800, 600)))\n",
    "            \n",
    "            if cv2.waitKey(1) & 0xFF == ord('q'):\n",
    "                break\n",
    "    except Exception as e:\n",
    "        print(e)\n",
    "        # cap.release()\n",
    "        cv2.destroyAllWindows()\n",
    "\n",
    "    \n",
    "    # cap.release()\n",
    "    cv2.destroyAllWindows()\n",
    "    \n",
    "    "
   ]
  },
  {
   "cell_type": "code",
   "execution_count": null,
   "id": "c48e39ae-4b07-4ebe-8b5c-62086d4c6cd2",
   "metadata": {},
   "outputs": [],
   "source": [
    "mask_detection()"
   ]
  },
  {
   "cell_type": "code",
   "execution_count": null,
   "id": "ef587371-c750-4b5f-9537-e0e549da7d14",
   "metadata": {},
   "outputs": [],
   "source": []
  }
 ],
 "metadata": {
  "kernelspec": {
   "display_name": "Python 3 (ipykernel)",
   "language": "python",
   "name": "python3"
  },
  "language_info": {
   "codemirror_mode": {
    "name": "ipython",
    "version": 3
   },
   "file_extension": ".py",
   "mimetype": "text/x-python",
   "name": "python",
   "nbconvert_exporter": "python",
   "pygments_lexer": "ipython3",
   "version": "3.9.18"
  }
 },
 "nbformat": 4,
 "nbformat_minor": 5
}
